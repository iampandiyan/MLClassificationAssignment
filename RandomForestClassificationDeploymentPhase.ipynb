{
 "cells": [
  {
   "cell_type": "code",
   "execution_count": 1,
   "id": "04d3f665-3777-4222-81d0-5250cad7d01d",
   "metadata": {},
   "outputs": [
    {
     "name": "stdout",
     "output_type": "stream",
     "text": [
      "[[-2.14708382 -1.27764223 -0.68384276 -0.36409637 -0.75509904 -0.53339322\n",
      "  -0.18572397  0.32543705 -0.16888894  0.52749017  1.60022934 -0.54855376\n",
      "   0.03721124 -0.49294082  1.83320914 -0.45124263 -0.13840913  0.38924947\n",
      "   0.51055216 -0.34299717 -0.23570226 -0.73926425 -0.73926425 -0.29277002\n",
      "   0.51639778 -0.52223297 -0.44519456]]\n",
      "[1]\n"
     ]
    },
    {
     "name": "stderr",
     "output_type": "stream",
     "text": [
      "C:\\Anaconda3\\Lib\\site-packages\\sklearn\\base.py:439: UserWarning: X does not have valid feature names, but StandardScaler was fitted with feature names\n",
      "  warnings.warn(\n"
     ]
    }
   ],
   "source": [
    "import pickle\n",
    "import pandas as pd\n",
    "from sklearn.preprocessing import StandardScaler\n",
    "from sklearn.model_selection import train_test_split\n",
    "\n",
    "loaded_model=pickle.load(open('finalized_RandomForestClassification_model.sav','rb'))\n",
    "loaded_sc=pickle.load(open('RandomForestClassificationStandardScaler.sav','rb'))\n",
    "\n",
    "preinput=loaded_sc.transform([[17, 60, 0, 0, 92, 32, 2.1, 141, 4.2, 13.9, 52, 7000, 4.705597, 0, 1, 0, 0, 1, 1, 0, 0, 0, 0, 0, 1, 0, 0]])\n",
    "result=loaded_model.predict(preinput)\n",
    "print(preinput)\n",
    "print(result)"
   ]
  },
  {
   "cell_type": "code",
   "execution_count": null,
   "id": "85be7556-278a-4a96-be13-7d134c624c14",
   "metadata": {},
   "outputs": [],
   "source": []
  }
 ],
 "metadata": {
  "kernelspec": {
   "display_name": "Python 3 (ipykernel)",
   "language": "python",
   "name": "python3"
  },
  "language_info": {
   "codemirror_mode": {
    "name": "ipython",
    "version": 3
   },
   "file_extension": ".py",
   "mimetype": "text/x-python",
   "name": "python",
   "nbconvert_exporter": "python",
   "pygments_lexer": "ipython3",
   "version": "3.11.7"
  }
 },
 "nbformat": 4,
 "nbformat_minor": 5
}
